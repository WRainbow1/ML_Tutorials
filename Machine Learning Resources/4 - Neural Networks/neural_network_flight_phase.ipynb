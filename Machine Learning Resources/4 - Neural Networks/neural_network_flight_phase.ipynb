{
 "cells": [
  {
   "cell_type": "markdown",
   "metadata": {},
   "source": [
    "## Importing libraries we'll need"
   ]
  },
  {
   "cell_type": "code",
   "execution_count": 1,
   "metadata": {
    "collapsed": true
   },
   "outputs": [],
   "source": [
    "#importing libraries we'll need\n",
    "import pandas as pd\n",
    "import numpy as np\n",
    "np.seterr(over='ignore') #because many parameters have zeros, this can lead to infs but doesn't affect results, so error ignored\n",
    "import math\n",
    "from sklearn import model_selection #this will be used to randomise the data\n",
    "import matplotlib.pyplot as plt\n",
    "from mpl_toolkits.mplot3d import Axes3D\n",
    "import pickle\n",
    "%matplotlib inline"
   ]
  },
  {
   "cell_type": "markdown",
   "metadata": {},
   "source": [
    "## Loading the file"
   ]
  },
  {
   "cell_type": "code",
   "execution_count": 2,
   "metadata": {
    "collapsed": false
   },
   "outputs": [
    {
     "data": {
      "text/html": [
       "<div>\n",
       "<table border=\"1\" class=\"dataframe\">\n",
       "  <thead>\n",
       "    <tr style=\"text-align: right;\">\n",
       "      <th></th>\n",
       "      <th>msn</th>\n",
       "      <th>flight</th>\n",
       "      <th>airline_icao</th>\n",
       "      <th>model</th>\n",
       "      <th>%_into_flight</th>\n",
       "      <th>flight_segment</th>\n",
       "      <th>altitude</th>\n",
       "      <th>mach</th>\n",
       "      <th>TAS</th>\n",
       "      <th>vertical_speed</th>\n",
       "      <th>mean_cruise_alt</th>\n",
       "      <th>static_pressure</th>\n",
       "      <th>WHLSPD_1</th>\n",
       "      <th>AOA</th>\n",
       "      <th>flap_pos</th>\n",
       "      <th>COG</th>\n",
       "      <th>main_g_out</th>\n",
       "      <th>roll</th>\n",
       "      <th>cl</th>\n",
       "    </tr>\n",
       "  </thead>\n",
       "  <tbody>\n",
       "    <tr>\n",
       "      <th>0</th>\n",
       "      <td>7802</td>\n",
       "      <td>5</td>\n",
       "      <td>EZY</td>\n",
       "      <td>A320</td>\n",
       "      <td>54.059406</td>\n",
       "      <td>CRUISE</td>\n",
       "      <td>37024.33333</td>\n",
       "      <td>0.781542</td>\n",
       "      <td>445.291667</td>\n",
       "      <td>-17.000000</td>\n",
       "      <td>37505.77471</td>\n",
       "      <td>212.320312</td>\n",
       "      <td>0.0</td>\n",
       "      <td>2.373047</td>\n",
       "      <td>0.0</td>\n",
       "      <td>27.451508</td>\n",
       "      <td>0</td>\n",
       "      <td>0</td>\n",
       "      <td>0.580665</td>\n",
       "    </tr>\n",
       "    <tr>\n",
       "      <th>1</th>\n",
       "      <td>7802</td>\n",
       "      <td>5</td>\n",
       "      <td>EZY</td>\n",
       "      <td>A320</td>\n",
       "      <td>44.356436</td>\n",
       "      <td>CRUISE</td>\n",
       "      <td>37037.33333</td>\n",
       "      <td>0.794167</td>\n",
       "      <td>453.104167</td>\n",
       "      <td>-6.333333</td>\n",
       "      <td>37505.77471</td>\n",
       "      <td>212.046875</td>\n",
       "      <td>0.0</td>\n",
       "      <td>2.197266</td>\n",
       "      <td>0.0</td>\n",
       "      <td>27.171492</td>\n",
       "      <td>0</td>\n",
       "      <td>0</td>\n",
       "      <td>0.570220</td>\n",
       "    </tr>\n",
       "    <tr>\n",
       "      <th>2</th>\n",
       "      <td>7802</td>\n",
       "      <td>5</td>\n",
       "      <td>EZY</td>\n",
       "      <td>A320</td>\n",
       "      <td>71.683168</td>\n",
       "      <td>CRUISE</td>\n",
       "      <td>38993.66667</td>\n",
       "      <td>0.773125</td>\n",
       "      <td>436.541667</td>\n",
       "      <td>-14.666667</td>\n",
       "      <td>37505.77471</td>\n",
       "      <td>193.257812</td>\n",
       "      <td>0.0</td>\n",
       "      <td>2.812500</td>\n",
       "      <td>0.0</td>\n",
       "      <td>28.031540</td>\n",
       "      <td>0</td>\n",
       "      <td>0</td>\n",
       "      <td>0.637519</td>\n",
       "    </tr>\n",
       "    <tr>\n",
       "      <th>3</th>\n",
       "      <td>7802</td>\n",
       "      <td>5</td>\n",
       "      <td>EZY</td>\n",
       "      <td>A320</td>\n",
       "      <td>78.613861</td>\n",
       "      <td>CRUISE</td>\n",
       "      <td>39031.33333</td>\n",
       "      <td>0.784958</td>\n",
       "      <td>443.000000</td>\n",
       "      <td>18.666667</td>\n",
       "      <td>37505.77471</td>\n",
       "      <td>192.796875</td>\n",
       "      <td>0.0</td>\n",
       "      <td>2.460938</td>\n",
       "      <td>0.0</td>\n",
       "      <td>28.271553</td>\n",
       "      <td>0</td>\n",
       "      <td>0</td>\n",
       "      <td>0.615025</td>\n",
       "    </tr>\n",
       "    <tr>\n",
       "      <th>4</th>\n",
       "      <td>7802</td>\n",
       "      <td>5</td>\n",
       "      <td>EZY</td>\n",
       "      <td>A320</td>\n",
       "      <td>81.980198</td>\n",
       "      <td>CRUISE</td>\n",
       "      <td>39051.33333</td>\n",
       "      <td>0.785208</td>\n",
       "      <td>442.729167</td>\n",
       "      <td>-74.000000</td>\n",
       "      <td>37505.77471</td>\n",
       "      <td>192.585938</td>\n",
       "      <td>0.0</td>\n",
       "      <td>2.416992</td>\n",
       "      <td>0.0</td>\n",
       "      <td>28.391560</td>\n",
       "      <td>0</td>\n",
       "      <td>0</td>\n",
       "      <td>0.612682</td>\n",
       "    </tr>\n",
       "  </tbody>\n",
       "</table>\n",
       "</div>"
      ],
      "text/plain": [
       "    msn  flight airline_icao model  %_into_flight flight_segment     altitude  \\\n",
       "0  7802       5          EZY  A320      54.059406         CRUISE  37024.33333   \n",
       "1  7802       5          EZY  A320      44.356436         CRUISE  37037.33333   \n",
       "2  7802       5          EZY  A320      71.683168         CRUISE  38993.66667   \n",
       "3  7802       5          EZY  A320      78.613861         CRUISE  39031.33333   \n",
       "4  7802       5          EZY  A320      81.980198         CRUISE  39051.33333   \n",
       "\n",
       "       mach         TAS  vertical_speed  mean_cruise_alt  static_pressure  \\\n",
       "0  0.781542  445.291667      -17.000000      37505.77471       212.320312   \n",
       "1  0.794167  453.104167       -6.333333      37505.77471       212.046875   \n",
       "2  0.773125  436.541667      -14.666667      37505.77471       193.257812   \n",
       "3  0.784958  443.000000       18.666667      37505.77471       192.796875   \n",
       "4  0.785208  442.729167      -74.000000      37505.77471       192.585938   \n",
       "\n",
       "   WHLSPD_1       AOA  flap_pos        COG  main_g_out  roll        cl  \n",
       "0       0.0  2.373047       0.0  27.451508           0     0  0.580665  \n",
       "1       0.0  2.197266       0.0  27.171492           0     0  0.570220  \n",
       "2       0.0  2.812500       0.0  28.031540           0     0  0.637519  \n",
       "3       0.0  2.460938       0.0  28.271553           0     0  0.615025  \n",
       "4       0.0  2.416992       0.0  28.391560           0     0  0.612682  "
      ]
     },
     "execution_count": 2,
     "metadata": {},
     "output_type": "execute_result"
    }
   ],
   "source": [
    "#importing data\n",
    "df = pd.read_csv(r'P:\\ENGINEERING\\FPO\\Digitalisation\\1 FPO Projects\\IIX Data Analytics\\02-General presentations\\Knowledge folder - preparation\\Data Science Learning Framework\\Machine Learning Posters\\4 - Neural Networks\\flight_segmentation_data.csv')\n",
    "\n",
    "df.head() #print 1st 5 rows to understand data"
   ]
  },
  {
   "cell_type": "markdown",
   "metadata": {},
   "source": [
    "## Formatting the data"
   ]
  },
  {
   "cell_type": "code",
   "execution_count": 3,
   "metadata": {
    "collapsed": false
   },
   "outputs": [],
   "source": [
    "#separating into features and labels, msn, flight, airline and model aren't features or labels but will be useful for post processing\n",
    "#% into flight would be increase accuracy, but we want to try to make a network that only relies on aircraft parameters\n",
    "X = np.array(df.drop([\"msn\",\"flight\",\"airline_icao\",\"model\",\"flight_segment\",\"%_into_flight\"],axis = 1)) #features\n",
    "y = np.array(df[\"flight_segment\"]) #labels\n",
    "\n",
    "#splitting the data randomly into training/testing data\n",
    "X_train, X_test, y_train, y_test = model_selection.train_test_split(X, y, test_size=0.3, random_state=101)\n",
    "#performing same train test split, but X contains all columns, these are the dataframes that'll be used for post processing\n",
    "X_train_all, X_test_all, y_train, y_test = model_selection.train_test_split(df, y, test_size=0.3, random_state=101)"
   ]
  },
  {
   "cell_type": "code",
   "execution_count": 4,
   "metadata": {
    "collapsed": false
   },
   "outputs": [],
   "source": [
    "#formatting the target data into the correct format for the final layer of neurons\n",
    "#if there are 4 classes, will create something like [0,0,1,0] column vector\n",
    "classes = list(df.drop_duplicates(\"flight_segment\")[\"flight_segment\"]) #classes are all the different label values, CRUISE etc...\n",
    "no_of_classes = len(classes)\n",
    "\n",
    "#for each row, will make a list of 0s, except a 1 for the target value using boolean as integer operations, then reshape into a column vector\n",
    "targets_train = [np.reshape(np.array([int(y_train[i] == j) for j in classes]), (no_of_classes,1)) for i in range(len(y_train))]\n",
    "targets_test = [np.reshape(np.array([int(y_test[i] == j) for j in classes]), (no_of_classes,1)) for i in range(len(y_test))]"
   ]
  },
  {
   "cell_type": "markdown",
   "metadata": {},
   "source": [
    "## The Network"
   ]
  },
  {
   "cell_type": "code",
   "execution_count": 5,
   "metadata": {
    "collapsed": true
   },
   "outputs": [],
   "source": [
    "class Network(object):\n",
    "\n",
    "    def __init__(self, sizes):\n",
    "        '''setting no. of layers, sizes of layers and generating weights and activation matrices on creation of network'''\n",
    "        \n",
    "        self.layers = len(sizes)\n",
    "        self.sizes = sizes\n",
    "        #weight matrix of each layer must have as many columns as present layer activations (+1 for bias) and as many rows as the next\n",
    "        self.weights = [np.random.randn(i,j+1) for i,j in zip(sizes[1:],sizes[:-1])]\n",
    "        \n",
    "        #activations vector of each layer must have as many entries as activations for that layer (+1 for bias), \n",
    "        #except for the last layer which only has the outputs (no bias feeding into next layer)\n",
    "        #it must be set with ones instead of zeros since the biases won't be changed and must be non-zero!\n",
    "        self.activations = [np.ones((i+1,1)) for i in sizes[:-1]] + [np.ones((sizes[-1],1))]\n",
    "        \n",
    "    def feed_fwd(self, X, tr_ex):\n",
    "        '''feed forward algorithm that multiplies values through from the input to the output layer'''\n",
    "        \n",
    "        self.activations[0][:,0] = np.append(X[tr_ex],1) #sets initial layer as input data values, then appends 1 for bias\n",
    "        for i in range(self.layers-1): #iterates through layers (forward propagation)\n",
    "            #for a given layer, will set every activation entry except the bias as the outputs from the previous layer\n",
    "            self.activations[i+1][:self.sizes[i+1]] = self.sigmoid(np.dot(self.weights[i],self.activations[i]))\n",
    "            \n",
    "        return self.activations[-1] #returns last layer of activations (network output)\n",
    "\n",
    "    def cost_func(self, X, y, iteration):\n",
    "        '''defines the cost (how wrong the algorithm is) at a given iteration'''\n",
    "        self.cost[iteration] = -(float(1)/len(X))*np.sum(np.array([y[i]*np.log(nn.feed_fwd(X,i)) + (1-y[i])*np.log(1-nn.feed_fwd(X,i)) for i in range(len(X))]))\n",
    "    \n",
    "    def backprop(self, X, y, train_its):\n",
    "        '''backpropagation algorithm, which trains the network'''\n",
    "        \n",
    "        alpha = 0.1 #setting the learning rate\n",
    "        self.cost = np.zeros((train_its)) #list to append cost at each iteration, so we can plot and make sure decreasing\n",
    "        for iteration in range(train_its): #iterating through training iterations (epochs)\n",
    "            \n",
    "            if float(iteration)*100/train_its % 5 == 0: #printing % complete if multiple of 5\n",
    "                print(\"{}% complete\".format(np.round(float(iteration)*100/train_its)))\n",
    "            \n",
    "            self.cost_func(X, y, iteration) #calulating cost function for a given iteration\n",
    "            \n",
    "            #setting a list of matrices for the changes to weights in each iteration\n",
    "            DELTAS = [np.zeros((i,j+1)) for i,j in zip(self.sizes[1:],self.sizes[:-1])]\n",
    "            \n",
    "            for tr_idx, tr_ex in enumerate(X): #for each training example\n",
    "                \n",
    "                #setting a list of matrices to change the amount (for each training example) of change (for each training iteration) to weights\n",
    "                deltas = [0 for i in range(self.layers)]\n",
    "                #running feed_fwd for the networks current output of this training example (activations needed for backpropagation) \n",
    "                self.feed_fwd(X, tr_idx)\n",
    "                \n",
    "                for layer in range(self.layers)[::-1]: #iterating backward through layers (backpropagation)\n",
    "                    \n",
    "                    #if its the final layer, set the delta (how wrong activations are), as difference between output and target\n",
    "                    if layer == self.layers-1:\n",
    "                        delta = self.activations[layer] - y[tr_idx]\n",
    "                    \n",
    "                    #otherwise use equation to propagate error backward from layer before\n",
    "                    else:\n",
    "                        delta = np.dot(self.weights[layer].transpose(),delta[:self.sizes[layer+1]])*self.activations[layer]*(1-self.activations[layer])\n",
    "\n",
    "                    deltas[layer] = delta #assign activation deltas for the layer to deltas list\n",
    "                \n",
    "                #add these deltas for this training example to the overall change for this iteration\n",
    "                DELTAS = [DELTAS[i] + np.dot(deltas[i+1][:self.sizes[i+1]], self.activations[i].transpose()) for i in range(self.layers-1)]\n",
    "\n",
    "            #subtract the overall change for this iteration from the weights, to complete iteration by creating new weight values\n",
    "            self.weights = [self.weights[i] - (float(1)/len(X))*alpha*DELTAS[i] for i in range(len(self.weights))]\n",
    "\n",
    "    def sigmoid(self, h_value):\n",
    "        '''the sigmoid function, which normalises values to between 0 and 1'''\n",
    "        return float(1)/(1+math.e**-h_value)"
   ]
  },
  {
   "cell_type": "code",
   "execution_count": 6,
   "metadata": {
    "collapsed": false
   },
   "outputs": [],
   "source": [
    "#defining our network, with the sizes of each layer given (first must be no. of features, last must be no. of classes)\n",
    "#add many layers of any size! eg. [input, 100, 100, 100, output], investigate the effect this has on training time and results\n",
    "\n",
    "nn = Network([X.shape[1], 60, 60, no_of_classes]) #X.shape[1] returns no. of columns in feature matrix, i.e. no of input neurons"
   ]
  },
  {
   "cell_type": "code",
   "execution_count": 7,
   "metadata": {
    "collapsed": false,
    "scrolled": true
   },
   "outputs": [
    {
     "name": "stdout",
     "output_type": "stream",
     "text": [
      "0.0% complete\n",
      "5.0% complete\n",
      "10.0% complete\n",
      "15.0% complete\n",
      "20.0% complete\n",
      "25.0% complete\n",
      "30.0% complete\n",
      "35.0% complete\n",
      "40.0% complete\n",
      "45.0% complete\n",
      "50.0% complete\n",
      "55.0% complete\n",
      "60.0% complete\n",
      "65.0% complete\n",
      "70.0% complete\n",
      "75.0% complete\n",
      "80.0% complete\n",
      "85.0% complete\n",
      "90.0% complete\n",
      "95.0% complete\n"
     ]
    }
   ],
   "source": [
    "training_its = 500 #setting number of training iterations\n",
    "nn.backprop(X_train, targets_train, training_its) #training the network\n",
    "\n",
    "#saving the network to the file directory, so we don't have to train it every time\n",
    "with open ('NeuralNet_flight_phase.pickle','wb') as f:\n",
    "    pickle.dump(nn, f)"
   ]
  },
  {
   "cell_type": "code",
   "execution_count": null,
   "metadata": {
    "collapsed": false
   },
   "outputs": [],
   "source": [
    "#loading a network from a previously saved file (no need to do this if you just trained it)\n",
    "pickle_in = open('NeuralNet_flight_phase.pickle','rb')\n",
    "nn = pickle.load(pickle_in)"
   ]
  },
  {
   "cell_type": "markdown",
   "metadata": {},
   "source": [
    "## Checking the cost"
   ]
  },
  {
   "cell_type": "code",
   "execution_count": 8,
   "metadata": {
    "collapsed": false
   },
   "outputs": [
    {
     "data": {
      "text/plain": [
       "<matplotlib.text.Text at 0xe3f1b70>"
      ]
     },
     "execution_count": 8,
     "metadata": {},
     "output_type": "execute_result"
    },
    {
     "data": {
      "image/png": "[encoded data removed]",
      "text/plain": [
       "<matplotlib.figure.Figure at 0xe3f07f0>"
      ]
     },
     "metadata": {},
     "output_type": "display_data"
    }
   ],
   "source": [
    "plt.plot(range(training_its),nn.cost) #plotting iteration vs. cost (to see how it decreases with training iterations)\n",
    "plt.xlabel(\"Iteration\")\n",
    "plt.ylabel(\"Cost\")"
   ]
  },
  {
   "cell_type": "markdown",
   "metadata": {},
   "source": [
    "## Output for an individual row"
   ]
  },
  {
   "cell_type": "code",
   "execution_count": 9,
   "metadata": {
    "collapsed": false
   },
   "outputs": [
    {
     "name": "stdout",
     "output_type": "stream",
     "text": [
      "Prediction, Actual: CRUISE, CRUISE\n",
      "\n",
      "Final Layer Activations:\n",
      "[[  8.97662022e-01]\n",
      " [  2.26057045e-02]\n",
      " [  8.89747204e-02]\n",
      " [  3.80504646e-04]]\n"
     ]
    }
   ],
   "source": [
    "test_no = 193 #this number can be changed to anything between 0 and 3000 to test different examples\n",
    "\n",
    "classes_dict = {idx : val for idx,val in enumerate(classes)} #creating a dictionary to link the output neuron index to the flight phase\n",
    "#predicting digit value by putting input data through network with feed_fwd function, then indexing y_test for actual value\n",
    "print(\"Prediction, Actual: {}, {}\".format(classes_dict[np.argmax(nn.feed_fwd(X_test, test_no))], y_test[test_no]))\n",
    "print()\n",
    "print(\"Final Layer Activations:\")\n",
    "print(nn.feed_fwd(X_test, test_no)) #whichever output has the highest value, is the selected class"
   ]
  },
  {
   "cell_type": "markdown",
   "metadata": {},
   "source": [
    "## Results"
   ]
  },
  {
   "cell_type": "code",
   "execution_count": 10,
   "metadata": {
    "collapsed": false
   },
   "outputs": [
    {
     "name": "stdout",
     "output_type": "stream",
     "text": [
      "92.52% correctly assigned\n"
     ]
    },
    {
     "name": "stderr",
     "output_type": "stream",
     "text": [
      "C:\\ProgramData\\Anaconda3\\lib\\site-packages\\ipykernel\\__main__.py:4: SettingWithCopyWarning: \n",
      "A value is trying to be set on a copy of a slice from a DataFrame.\n",
      "Try using .loc[row_indexer,col_indexer] = value instead\n",
      "\n",
      "See the caveats in the documentation: http://pandas.pydata.org/pandas-docs/stable/indexing.html#indexing-view-versus-copy\n"
     ]
    }
   ],
   "source": [
    "#calculating the number of correctly assigned values in the test data\n",
    "\n",
    "#adding predicted values, by applying feed_fwd and taking max output\n",
    "X_test_all[\"predicted\"] = [classes_dict[np.argmax(nn.feed_fwd(X_test, iteration))] for iteration in range(len(X_test))]\n",
    "\n",
    "correct = len(X_test_all[X_test_all[\"flight_segment\"] == X_test_all[\"predicted\"]]) #length of df where actual = predicted is number of correctly estimated digits\n",
    "fraction = float(correct)/len(X_test_all) #divide by total digits in test data for % correct\n",
    "print(\"{}% correctly assigned\".format(np.round(fraction*100,2)))"
   ]
  },
  {
   "cell_type": "code",
   "execution_count": 11,
   "metadata": {
    "collapsed": false
   },
   "outputs": [
    {
     "data": {
      "text/plain": [
       "<matplotlib.text.Text at 0xf5e090>"
      ]
     },
     "execution_count": 11,
     "metadata": {},
     "output_type": "execute_result"
    },
    {
     "data": {
      "image/png": "[encoded data removed]",
      "text/plain": [
       "<matplotlib.figure.Figure at 0xf155f0>"
      ]
     },
     "metadata": {},
     "output_type": "display_data"
    }
   ],
   "source": [
    "for val in classes:\n",
    "    plt.scatter(X_test_all[X_test_all[\"predicted\"] == val][\"%_into_flight\"], X_test_all[X_test_all[\"predicted\"] == val][\"altitude\"], alpha = 0.5)\n",
    "plt.legend(classes, loc = \"center\")\n",
    "plt.xlabel(\"% into flight\")\n",
    "plt.ylabel(\"altitude\")\n",
    "plt.title(\"Flight Phase Classification: {} Flights\".format(len(X_test_all.drop_duplicates([\"msn\",\"flight\"]))))"
   ]
  }
 ],
 "metadata": {
  "kernelspec": {
   "display_name": "Python 3",
   "language": "python",
   "name": "python3"
  },
  "language_info": {
   "codemirror_mode": {
    "name": "ipython",
    "version": 3
   },
   "file_extension": ".py",
   "mimetype": "text/x-python",
   "name": "python",
   "nbconvert_exporter": "python",
   "pygments_lexer": "ipython3",
   "version": "3.6.0"
  }
 },
 "nbformat": 4,
 "nbformat_minor": 2
}
