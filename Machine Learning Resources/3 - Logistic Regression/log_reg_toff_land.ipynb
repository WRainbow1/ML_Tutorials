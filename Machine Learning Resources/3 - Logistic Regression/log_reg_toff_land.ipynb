{
 "cells": [
  {
   "cell_type": "markdown",
   "metadata": {},
   "source": [
    "## Importing libraries we'll need"
   ]
  },
  {
   "cell_type": "code",
   "execution_count": 1,
   "metadata": {
    "collapsed": true
   },
   "outputs": [],
   "source": [
    "import warnings\n",
    "warnings.filterwarnings('ignore')\n",
    "import pandas as pd\n",
    "import numpy as np\n",
    "import math\n",
    "from sklearn import model_selection #this will be used to randomise the data\n",
    "import matplotlib.pyplot as plt\n",
    "from mpl_toolkits.mplot3d import Axes3D\n",
    "%matplotlib inline\n",
    "\n",
    "def sigmoid(h_value):\n",
    "    '''Takes a value normalises it to be between 0 and 1, will be useful later'''\n",
    "    return float(1)/(1+math.e**-h_value)"
   ]
  },
  {
   "cell_type": "markdown",
   "metadata": {},
   "source": [
    "## Loading the file"
   ]
  },
  {
   "cell_type": "code",
   "execution_count": 2,
   "metadata": {
    "collapsed": false
   },
   "outputs": [
    {
     "data": {
      "text/html": [
       "<div>\n",
       "<table border=\"1\" class=\"dataframe\">\n",
       "  <thead>\n",
       "    <tr style=\"text-align: right;\">\n",
       "      <th></th>\n",
       "      <th>flight_segment</th>\n",
       "      <th>total_fuel_weight</th>\n",
       "      <th>flap_pos</th>\n",
       "    </tr>\n",
       "  </thead>\n",
       "  <tbody>\n",
       "    <tr>\n",
       "      <th>0</th>\n",
       "      <td>TAKE_OFF</td>\n",
       "      <td>8708.964844</td>\n",
       "      <td>13.974609</td>\n",
       "    </tr>\n",
       "    <tr>\n",
       "      <th>1</th>\n",
       "      <td>TAKE_OFF</td>\n",
       "      <td>8745.251953</td>\n",
       "      <td>13.974609</td>\n",
       "    </tr>\n",
       "    <tr>\n",
       "      <th>2</th>\n",
       "      <td>TAKE_OFF</td>\n",
       "      <td>8799.683594</td>\n",
       "      <td>13.974609</td>\n",
       "    </tr>\n",
       "    <tr>\n",
       "      <th>3</th>\n",
       "      <td>TAKE_OFF</td>\n",
       "      <td>8926.689453</td>\n",
       "      <td>13.974609</td>\n",
       "    </tr>\n",
       "    <tr>\n",
       "      <th>4</th>\n",
       "      <td>LAND</td>\n",
       "      <td>4154.901855</td>\n",
       "      <td>24.960938</td>\n",
       "    </tr>\n",
       "  </tbody>\n",
       "</table>\n",
       "</div>"
      ],
      "text/plain": [
       "  flight_segment  total_fuel_weight   flap_pos\n",
       "0       TAKE_OFF        8708.964844  13.974609\n",
       "1       TAKE_OFF        8745.251953  13.974609\n",
       "2       TAKE_OFF        8799.683594  13.974609\n",
       "3       TAKE_OFF        8926.689453  13.974609\n",
       "4           LAND        4154.901855  24.960938"
      ]
     },
     "execution_count": 2,
     "metadata": {},
     "output_type": "execute_result"
    }
   ],
   "source": [
    "df = pd.read_csv(r'P:\\ENGINEERING\\FPO\\Digitalisation\\1 FPO Projects\\IIX Data Analytics\\02-General presentations\\Knowledge folder - preparation\\Data Science Learning Framework\\Machine Learning Posters\\3 - Logistic Regression\\t_off_land.csv')\n",
    "df.head() #checking what our data looks like"
   ]
  },
  {
   "cell_type": "markdown",
   "metadata": {},
   "source": [
    "# Plotting the data to investigate"
   ]
  },
  {
   "cell_type": "code",
   "execution_count": 3,
   "metadata": {
    "collapsed": false
   },
   "outputs": [
    {
     "data": {
      "text/plain": [
       "<matplotlib.legend.Legend at 0xefd9bd0>"
      ]
     },
     "execution_count": 3,
     "metadata": {},
     "output_type": "execute_result"
    },
    {
     "data": {
      "image/png": "[encoded data removed]",
      "text/plain": [
       "<matplotlib.figure.Figure at 0xde78f50>"
      ]
     },
     "metadata": {},
     "output_type": "display_data"
    }
   ],
   "source": [
    "f = plt.figure(figsize=(15,6))\n",
    "#plotting histogram of flap position, separated by take off and land\n",
    "ax = f.add_subplot(121)\n",
    "ax = plt.hist(df[df[\"flight_segment\"] == \"TAKE_OFF\"][\"flap_pos\"])\n",
    "ax = plt.hist(df[df[\"flight_segment\"] == \"LAND\"][\"flap_pos\"], alpha = 0.5)\n",
    "plt.xlabel(\"Flap Position (deg)\")\n",
    "plt.title(\"Flap Position Histogram\")\n",
    "plt.legend([\"Take Off\", \"Land\"])\n",
    "\n",
    "#plotting histogram of fuel weight, separated by take off and land\n",
    "ax2 = f.add_subplot(122)\n",
    "ax2 = plt.hist(df[df[\"flight_segment\"] == \"TAKE_OFF\"][\"total_fuel_weight\"])\n",
    "ax2 = plt.hist(df[df[\"flight_segment\"] == \"LAND\"][\"total_fuel_weight\"], alpha = 0.5)\n",
    "plt.xlabel(\"Fuel Weight (Kg)\")\n",
    "plt.title(\"Fuel Weight Histogram\")\n",
    "plt.legend([\"Take Off\", \"Land\"])"
   ]
  },
  {
   "cell_type": "markdown",
   "metadata": {},
   "source": [
    "## Formatting the data"
   ]
  },
  {
   "cell_type": "code",
   "execution_count": 4,
   "metadata": {
    "collapsed": false
   },
   "outputs": [
    {
     "data": {
      "text/html": [
       "<div>\n",
       "<table border=\"1\" class=\"dataframe\">\n",
       "  <thead>\n",
       "    <tr style=\"text-align: right;\">\n",
       "      <th></th>\n",
       "      <th>flight_segment</th>\n",
       "      <th>total_fuel_weight</th>\n",
       "      <th>flap_pos</th>\n",
       "      <th>constant</th>\n",
       "    </tr>\n",
       "  </thead>\n",
       "  <tbody>\n",
       "    <tr>\n",
       "      <th>0</th>\n",
       "      <td>0</td>\n",
       "      <td>8708.964844</td>\n",
       "      <td>13.974609</td>\n",
       "      <td>1</td>\n",
       "    </tr>\n",
       "    <tr>\n",
       "      <th>1</th>\n",
       "      <td>0</td>\n",
       "      <td>8745.251953</td>\n",
       "      <td>13.974609</td>\n",
       "      <td>1</td>\n",
       "    </tr>\n",
       "    <tr>\n",
       "      <th>2</th>\n",
       "      <td>0</td>\n",
       "      <td>8799.683594</td>\n",
       "      <td>13.974609</td>\n",
       "      <td>1</td>\n",
       "    </tr>\n",
       "    <tr>\n",
       "      <th>3</th>\n",
       "      <td>0</td>\n",
       "      <td>8926.689453</td>\n",
       "      <td>13.974609</td>\n",
       "      <td>1</td>\n",
       "    </tr>\n",
       "    <tr>\n",
       "      <th>4</th>\n",
       "      <td>1</td>\n",
       "      <td>4154.901855</td>\n",
       "      <td>24.960938</td>\n",
       "      <td>1</td>\n",
       "    </tr>\n",
       "  </tbody>\n",
       "</table>\n",
       "</div>"
      ],
      "text/plain": [
       "   flight_segment  total_fuel_weight   flap_pos  constant\n",
       "0               0        8708.964844  13.974609         1\n",
       "1               0        8745.251953  13.974609         1\n",
       "2               0        8799.683594  13.974609         1\n",
       "3               0        8926.689453  13.974609         1\n",
       "4               1        4154.901855  24.960938         1"
      ]
     },
     "execution_count": 4,
     "metadata": {},
     "output_type": "execute_result"
    }
   ],
   "source": [
    "def binary(entry):\n",
    "    '''Converting classification to numeric format, such that the model can target it (take off = 0, land = 1)'''\n",
    "    if entry == \"TAKE_OFF\":\n",
    "        return 0\n",
    "    else:\n",
    "        return 1\n",
    "    \n",
    "df[\"flight_segment\"] = df[\"flight_segment\"].apply(binary) #applying function to column\n",
    "df[\"constant\"] = 1 #adding a column to calculate theta_0\n",
    "df.head()"
   ]
  },
  {
   "cell_type": "code",
   "execution_count": 5,
   "metadata": {
    "collapsed": false
   },
   "outputs": [],
   "source": [
    "#separating data into features (what we're using to classify), and labels (what we're trying to predict)\n",
    "X = df[[\"constant\",\"flap_pos\",\"total_fuel_weight\"]].copy() #features\n",
    "y = df[\"flight_segment\"].copy() #labels\n",
    "\n",
    "#train_test_split randomly splits the data to avoid bias, here we've used 70% of the data to train and 30% to test the model\n",
    "X_train, X_test, y_train, y_test = model_selection.train_test_split(X, y, test_size=0.3, random_state=101)"
   ]
  },
  {
   "cell_type": "code",
   "execution_count": 6,
   "metadata": {
    "collapsed": false
   },
   "outputs": [],
   "source": [
    "#scaling our data, if flap position and fuel weight are of similar magnitude, the model will converge faster\n",
    "for col in X_train.columns[1:]:\n",
    "    X_train.loc[:,col] = (X_train.loc[:,col]-np.mean(X_train.loc[:,col]))/(np.max(X_train.loc[:,col])-np.min(X_train.loc[:,col]))\n",
    "    X_test.loc[:,col] = (X_test.loc[:,col]-np.mean(X_test.loc[:,col]))/(np.max(X_test.loc[:,col])-np.min(X_test.loc[:,col]))\n",
    "\n",
    "X_train, y_train = np.array(X_train), np.array(y_train) #converting to matrices instead of dataframes for functionality"
   ]
  },
  {
   "cell_type": "markdown",
   "metadata": {},
   "source": [
    "## Performing gradient descent"
   ]
  },
  {
   "cell_type": "code",
   "execution_count": 7,
   "metadata": {
    "collapsed": false
   },
   "outputs": [],
   "source": [
    "grad_desc_iterations = 300 #setting number of iterations\n",
    "alpha = 10 #setting the learning rate\n",
    "J = np.zeros((grad_desc_iterations,1)) #creating empty matrix to fill with cost at each iteration\n",
    "thetas = np.zeros((grad_desc_iterations+1,len(X.columns))) #creating empty matrix of thetas at each iteration, the last row will be best fit for model\n",
    "\n",
    "for i in range(grad_desc_iterations): #for each gradient descent iteration...\n",
    "    #assigning a cost value for each iteration, the operations are explained at the end of document\n",
    "    J[i] = -(float(1)/len(X_train))*np.sum(y_train*np.log(sigmoid(np.sum(thetas[i]*X_train,axis = 1)))+(1-y_train)*np.log(1-sigmoid(np.sum(thetas[i]*X_train,axis = 1))))\n",
    "    #updating theta with gradient descent for the next iteration, operations are explained at the end of the document\n",
    "    thetas[i+1] = thetas[i] - (alpha/len(X))*np.dot(sigmoid(np.sum(thetas[i]*X_train,axis = 1))-y_train,X_train)"
   ]
  },
  {
   "cell_type": "markdown",
   "metadata": {},
   "source": [
    "## Plotting the cost"
   ]
  },
  {
   "cell_type": "code",
   "execution_count": 8,
   "metadata": {
    "collapsed": false
   },
   "outputs": [
    {
     "data": {
      "text/plain": [
       "<matplotlib.text.Text at 0xf054eb0>"
      ]
     },
     "execution_count": 8,
     "metadata": {},
     "output_type": "execute_result"
    },
    {
     "data": {
      "image/png": "[encoded data removed]",
      "text/plain": [
       "<matplotlib.figure.Figure at 0xf02f7d0>"
      ]
     },
     "metadata": {},
     "output_type": "display_data"
    }
   ],
   "source": [
    "plt.plot(range(grad_desc_iterations), J) #plotting iterations vs. cost (J)\n",
    "plt.xlabel(\"Iteration\")\n",
    "plt.ylabel(\"Cost\")"
   ]
  },
  {
   "cell_type": "markdown",
   "metadata": {},
   "source": [
    "## Predicting fuel burn for the test data"
   ]
  },
  {
   "cell_type": "code",
   "execution_count": 9,
   "metadata": {
    "collapsed": false
   },
   "outputs": [],
   "source": [
    "#multiplying thetas by test values, then rounding the value to 1 or 0 to give our prediction of y!\n",
    "X_test[\"predic\"] = np.round(sigmoid(np.sum(thetas[-1]*X_test,axis = 1)))\n",
    "X_test[\"flight_segment\"] = y_test #adding the actual y value for testing our success later"
   ]
  },
  {
   "cell_type": "markdown",
   "metadata": {},
   "source": [
    "## Plotting results"
   ]
  },
  {
   "cell_type": "code",
   "execution_count": 10,
   "metadata": {
    "collapsed": false
   },
   "outputs": [
    {
     "data": {
      "image/png": "[encoded data removed]",
      "text/plain": [
       "<matplotlib.figure.Figure at 0xf02ff30>"
      ]
     },
     "metadata": {},
     "output_type": "display_data"
    }
   ],
   "source": [
    "#rearranging the hypothesis equation set equal to 0, this gives us our decision bounday (if hypothesis < 0 prediction is 0, otherwise 1)\n",
    "x = []\n",
    "y = []\n",
    "for i in np.arange(-0.5,0.5,0.1):\n",
    "    #assigning decision boundary coordinates for the normalised features' range\n",
    "    x.append(i)\n",
    "    y.append((-thetas[-1][0]-thetas[-1][1]*i)/thetas[-1][2])\n",
    "\n",
    "#separating test data into take_off/land and plotting\n",
    "plt.scatter(X_test[X_test[\"flight_segment\"] == 0][\"flap_pos\"], X_test[X_test[\"flight_segment\"] == 0][\"total_fuel_weight\"],alpha = 0.5)\n",
    "plt.scatter(X_test[X_test[\"flight_segment\"] == 1][\"flap_pos\"], X_test[X_test[\"flight_segment\"] == 1][\"total_fuel_weight\"],alpha = 0.5)\n",
    "plt.plot(x,y,color = 'g') #plotting decision boundary\n",
    "plt.xlabel(\"Flap Position Normalised (deg)\")\n",
    "plt.ylabel(\"Fuel Weight Normalised (kg)\")\n",
    "plt.legend([\"Decision Boundary\", \"Land\", \"Take Off\"])\n",
    "plt.title(\"Decision Boundary\")\n",
    "plt.savefig(\"decision boundary.png\")"
   ]
  },
  {
   "cell_type": "markdown",
   "metadata": {},
   "source": [
    "## Analysing model"
   ]
  },
  {
   "cell_type": "code",
   "execution_count": 11,
   "metadata": {
    "collapsed": false
   },
   "outputs": [
    {
     "name": "stdout",
     "output_type": "stream",
     "text": [
      "99.21% correctly assigned\n"
     ]
    }
   ],
   "source": [
    "#printing the % of rows that were correctly assigned in the test data...\n",
    "correct = len(X_test[(X_test[\"predic\"] == 0.0) & (X_test[\"flight_segment\"] == 0.0)]) + len(X_test[(X_test[\"predic\"] == 1.0) & (X_test[\"flight_segment\"] == 1.0)])\n",
    "fraction = float(correct)/len(X_test)\n",
    "print(\"{}% correctly assigned\".format(np.round(fraction*100,2)))"
   ]
  },
  {
   "cell_type": "code",
   "execution_count": 12,
   "metadata": {
    "collapsed": false
   },
   "outputs": [
    {
     "data": {
      "text/plain": [
       "array([[922,   0],\n",
       "       [ 15, 967]])"
      ]
     },
     "execution_count": 12,
     "metadata": {},
     "output_type": "execute_result"
    }
   ],
   "source": [
    "#making a confusion matrix\n",
    "np.array([[len(X_test[(X_test[\"predic\"] == 0.0) & (X_test[\"flight_segment\"] == 0.0)]),\\\n",
    "           len(X_test[(X_test[\"predic\"] == 1.0) & (X_test[\"flight_segment\"] == 0.0)])],\\\n",
    "          [len(X_test[(X_test[\"predic\"] == 0.0) & (X_test[\"flight_segment\"] == 1.0)]),\\\n",
    "           len(X_test[(X_test[\"predic\"] == 1.0) & (X_test[\"flight_segment\"] == 1.0)])]])\n",
    "\n",
    "#confusion matrices show how many false negatives (predicted negative when actually positive), \n",
    "#                                 true negatives (predicted negative and is negative)\n",
    "#                                 false positives (predicted positive when actually negative) and\n",
    "#                                 true positives (predicted positive and is positive)\n",
    "# are present in your test data, they are 2x2 matrices of the form:\n",
    "#{[true negative, false positive]\n",
    "# [false negative, true positive]}"
   ]
  }
 ],
 "metadata": {
  "kernelspec": {
   "display_name": "Python 3",
   "language": "python",
   "name": "python3"
  },
  "language_info": {
   "codemirror_mode": {
    "name": "ipython",
    "version": 3
   },
   "file_extension": ".py",
   "mimetype": "text/x-python",
   "name": "python",
   "nbconvert_exporter": "python",
   "pygments_lexer": "ipython3",
   "version": "3.6.0"
  }
 },
 "nbformat": 4,
 "nbformat_minor": 2
}
