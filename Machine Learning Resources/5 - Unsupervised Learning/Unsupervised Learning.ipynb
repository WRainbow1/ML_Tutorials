{
 "cells": [
  {
   "cell_type": "code",
   "execution_count": 1,
   "metadata": {},
   "outputs": [],
   "source": [
    "import pandas as pd\n",
    "import numpy as np\n",
    "import matplotlib.pyplot as plt\n",
    "import random\n",
    "import os"
   ]
  },
  {
   "cell_type": "code",
   "execution_count": 2,
   "metadata": {},
   "outputs": [],
   "source": [
    "#loading the data\n",
    "df = pd.read_csv(r'P:\\ENGINEERING\\FPO\\Digitalisation\\1 FPO Projects\\IIX Data Analytics\\02-General presentations\\Knowledge folder - preparation\\Data Science Learning Framework\\Machine Learning Posters\\5 - Unsupervised Learning\\A320_input_data.csv')"
   ]
  },
  {
   "cell_type": "code",
   "execution_count": 3,
   "metadata": {},
   "outputs": [
    {
     "data": {
      "text/html": [
       "<div>\n",
       "<style scoped>\n",
       "    .dataframe tbody tr th:only-of-type {\n",
       "        vertical-align: middle;\n",
       "    }\n",
       "\n",
       "    .dataframe tbody tr th {\n",
       "        vertical-align: top;\n",
       "    }\n",
       "\n",
       "    .dataframe thead th {\n",
       "        text-align: right;\n",
       "    }\n",
       "</style>\n",
       "<table border=\"1\" class=\"dataframe\">\n",
       "  <thead>\n",
       "    <tr style=\"text-align: right;\">\n",
       "      <th></th>\n",
       "      <th>gps_lat</th>\n",
       "      <th>gps_lon</th>\n",
       "      <th>take_off_weight</th>\n",
       "      <th>fuel_burn_total2</th>\n",
       "      <th>flight_time</th>\n",
       "      <th>cruise_time</th>\n",
       "    </tr>\n",
       "  </thead>\n",
       "  <tbody>\n",
       "    <tr>\n",
       "      <th>0</th>\n",
       "      <td>-22.49588</td>\n",
       "      <td>-73.097702</td>\n",
       "      <td>65.770607</td>\n",
       "      <td>4662.924805</td>\n",
       "      <td>1.5</td>\n",
       "      <td>0.333333</td>\n",
       "    </tr>\n",
       "    <tr>\n",
       "      <th>1</th>\n",
       "      <td>-22.49588</td>\n",
       "      <td>-73.097702</td>\n",
       "      <td>65.770607</td>\n",
       "      <td>4662.924805</td>\n",
       "      <td>1.5</td>\n",
       "      <td>0.333333</td>\n",
       "    </tr>\n",
       "    <tr>\n",
       "      <th>2</th>\n",
       "      <td>-22.49588</td>\n",
       "      <td>-73.097702</td>\n",
       "      <td>65.770607</td>\n",
       "      <td>4662.924805</td>\n",
       "      <td>1.5</td>\n",
       "      <td>0.333333</td>\n",
       "    </tr>\n",
       "    <tr>\n",
       "      <th>3</th>\n",
       "      <td>-22.49588</td>\n",
       "      <td>-73.097702</td>\n",
       "      <td>65.770607</td>\n",
       "      <td>4662.924805</td>\n",
       "      <td>1.5</td>\n",
       "      <td>0.333333</td>\n",
       "    </tr>\n",
       "    <tr>\n",
       "      <th>4</th>\n",
       "      <td>-22.49588</td>\n",
       "      <td>-73.097702</td>\n",
       "      <td>65.770607</td>\n",
       "      <td>4662.924805</td>\n",
       "      <td>1.5</td>\n",
       "      <td>0.333333</td>\n",
       "    </tr>\n",
       "  </tbody>\n",
       "</table>\n",
       "</div>"
      ],
      "text/plain": [
       "    gps_lat    gps_lon  take_off_weight  fuel_burn_total2  flight_time  \\\n",
       "0 -22.49588 -73.097702        65.770607       4662.924805          1.5   \n",
       "1 -22.49588 -73.097702        65.770607       4662.924805          1.5   \n",
       "2 -22.49588 -73.097702        65.770607       4662.924805          1.5   \n",
       "3 -22.49588 -73.097702        65.770607       4662.924805          1.5   \n",
       "4 -22.49588 -73.097702        65.770607       4662.924805          1.5   \n",
       "\n",
       "   cruise_time  \n",
       "0     0.333333  \n",
       "1     0.333333  \n",
       "2     0.333333  \n",
       "3     0.333333  \n",
       "4     0.333333  "
      ]
     },
     "execution_count": 3,
     "metadata": {},
     "output_type": "execute_result"
    }
   ],
   "source": [
    "#seeing summary of our data\n",
    "df.head()"
   ]
  },
  {
   "cell_type": "markdown",
   "metadata": {},
   "source": [
    "# K-Means Clustering"
   ]
  },
  {
   "cell_type": "code",
   "execution_count": 4,
   "metadata": {},
   "outputs": [
    {
     "data": {
      "text/plain": [
       "Text(0, 0.5, 'Latitude')"
      ]
     },
     "execution_count": 4,
     "metadata": {},
     "output_type": "execute_result"
    },
    {
     "data": {
      "image/png": "[encoded data removed]",
      "text/plain": [
       "<Figure size 576x432 with 1 Axes>"
      ]
     },
     "metadata": {
      "needs_background": "light"
     },
     "output_type": "display_data"
    }
   ],
   "source": [
    "#plotting the data, as can be seen there are numerous clusters, which are different airline networks\n",
    "plt.figure(figsize=(8,6))\n",
    "plt.scatter(x=df[\"gps_lon\"],y=df[\"gps_lat\"], s=20, alpha = 0.5)\n",
    "plt.xlabel(\"Longitude\")\n",
    "plt.ylabel(\"Latitude\")"
   ]
  },
  {
   "cell_type": "code",
   "execution_count": 5,
   "metadata": {},
   "outputs": [],
   "source": [
    "class Kmeans(object):\n",
    "    \n",
    "    def __init__(self, data, k=2):\n",
    "        '''__init__ function to define the datapoints for clustering, and selecting random \n",
    "        data points as starting points for the centroids\n",
    "        \n",
    "        inputs: data: data to be clustered\n",
    "                k: no. of clusters'''\n",
    "        self.data = np.array(data) #incorporating the data into the object\n",
    "        self.centroids = np.array([random.choice(self.data) for i in range(k)]) #assigning the centroid initialisations\n",
    "        \n",
    "    def train(self, train_its=50):\n",
    "        '''function to move the clusters\n",
    "        \n",
    "        inputs: train_its: the number of iterations over which the cluster will be moved'''\n",
    "        for iteration in range(train_its): #iterating through movement of clusters\n",
    "            if float(iteration)*100/train_its % 5 == 0:\n",
    "                print(\"{}% complete\".format(np.round(float(iteration)*100/train_its)))\n",
    "                \n",
    "            self.assign_cluster() #assigning clusters\n",
    "            self.move_centroid() #moving centroids\n",
    "        \n",
    "        self.cost = self.cost_function()\n",
    "        \n",
    "    def assign_cluster(self):\n",
    "        '''algorithm to assign clusters to each datapoint, by assigning whichever centroid is closest to that cluster'''\n",
    "        self.assigned_clusters = np.zeros(self.data.shape[0]) #creating empty array for cluster assignments\n",
    "        self.assigned_cluster_pos = np.zeros((self.data.shape[0],2))\n",
    "        for i, coord in enumerate(self.data): #iterating through data points\n",
    "            #calculating distances to each centroid\n",
    "            distances = np.array([np.linalg.norm(coord-centroid) for centroid in self.centroids])\n",
    "            self.assigned_clusters[i] = np.argmin(distances) #assigning the cluster group to the centroid with the small distance\n",
    "            self.assigned_cluster_pos[i] = self.centroids[np.argmin(distances)]\n",
    "            \n",
    "    def move_centroid(self):\n",
    "        '''algorithm to move the centroids'''\n",
    "        for i, centroid in enumerate(self.centroids): #iterating through centroids\n",
    "            #moving centroid to average vector position of all datapoints assigned to that cluster\n",
    "            self.centroids[i] = np.mean(self.data[self.assigned_clusters==i], axis=0)\n",
    "        self.centroids = self.centroids[~np.isnan(self.centroids).any(axis=1)] #removing clusters which were assigned no points\n",
    "        \n",
    "    def cost_function(self):\n",
    "        return (1/len(self.data))*np.sum(np.linalg.norm(self.data-self.assigned_cluster_pos, axis=1))"
   ]
  },
  {
   "cell_type": "code",
   "execution_count": 6,
   "metadata": {},
   "outputs": [],
   "source": [
    "train_its = 50 #specifying number of training iterations\n",
    "k = 4 #specifying number of clusters\n",
    "clf = Kmeans(df[[\"gps_lon\",\"gps_lat\"]], k) #creating a clustering object, specifying the data to be clustered and the no. of clusters"
   ]
  },
  {
   "cell_type": "code",
   "execution_count": 7,
   "metadata": {},
   "outputs": [
    {
     "name": "stdout",
     "output_type": "stream",
     "text": [
      "0.0% complete\n",
      "10.0% complete\n",
      "20.0% complete\n",
      "30.0% complete\n",
      "40.0% complete\n",
      "50.0% complete\n",
      "60.0% complete\n",
      "70.0% complete\n",
      "80.0% complete\n",
      "90.0% complete\n"
     ]
    }
   ],
   "source": [
    "clf.train(train_its) #performing k means"
   ]
  },
  {
   "cell_type": "code",
   "execution_count": 8,
   "metadata": {},
   "outputs": [
    {
     "data": {
      "text/plain": [
       "Text(0, 0.5, 'Latitude')"
      ]
     },
     "execution_count": 8,
     "metadata": {},
     "output_type": "execute_result"
    },
    {
     "data": {
      "image/png": "[encoded data removed]",
      "text/plain": [
       "<Figure size 576x432 with 1 Axes>"
      ]
     },
     "metadata": {
      "needs_background": "light"
     },
     "output_type": "display_data"
    }
   ],
   "source": [
    "clf.move_centroid()\n",
    "#plotting clusters\n",
    "plt.figure(figsize=(8,6))\n",
    "plt.scatter(x=clf.data[:,0], y=clf.data[:,1], c=clf.assigned_clusters, s=20, alpha =0.5)\n",
    "plt.scatter(x=clf.centroids[:,0],y=clf.centroids[:,1], s=100 ,color='k', marker='x')\n",
    "plt.xlabel(\"Longitude\")\n",
    "plt.ylabel(\"Latitude\")"
   ]
  },
  {
   "cell_type": "code",
   "execution_count": 9,
   "metadata": {},
   "outputs": [
    {
     "data": {
      "text/html": [
       "<div>\n",
       "<style scoped>\n",
       "    .dataframe tbody tr th:only-of-type {\n",
       "        vertical-align: middle;\n",
       "    }\n",
       "\n",
       "    .dataframe tbody tr th {\n",
       "        vertical-align: top;\n",
       "    }\n",
       "\n",
       "    .dataframe thead th {\n",
       "        text-align: right;\n",
       "    }\n",
       "</style>\n",
       "<table border=\"1\" class=\"dataframe\">\n",
       "  <thead>\n",
       "    <tr style=\"text-align: right;\">\n",
       "      <th></th>\n",
       "      <th>gps_lat</th>\n",
       "      <th>gps_lon</th>\n",
       "      <th>take_off_weight</th>\n",
       "      <th>fuel_burn_total2</th>\n",
       "      <th>flight_time</th>\n",
       "      <th>cruise_time</th>\n",
       "      <th>airline</th>\n",
       "    </tr>\n",
       "  </thead>\n",
       "  <tbody>\n",
       "    <tr>\n",
       "      <th>0</th>\n",
       "      <td>-22.49588</td>\n",
       "      <td>-73.097702</td>\n",
       "      <td>65.770607</td>\n",
       "      <td>4662.924805</td>\n",
       "      <td>1.5</td>\n",
       "      <td>0.333333</td>\n",
       "      <td>2.0</td>\n",
       "    </tr>\n",
       "    <tr>\n",
       "      <th>1</th>\n",
       "      <td>-22.49588</td>\n",
       "      <td>-73.097702</td>\n",
       "      <td>65.770607</td>\n",
       "      <td>4662.924805</td>\n",
       "      <td>1.5</td>\n",
       "      <td>0.333333</td>\n",
       "      <td>2.0</td>\n",
       "    </tr>\n",
       "    <tr>\n",
       "      <th>2</th>\n",
       "      <td>-22.49588</td>\n",
       "      <td>-73.097702</td>\n",
       "      <td>65.770607</td>\n",
       "      <td>4662.924805</td>\n",
       "      <td>1.5</td>\n",
       "      <td>0.333333</td>\n",
       "      <td>2.0</td>\n",
       "    </tr>\n",
       "    <tr>\n",
       "      <th>3</th>\n",
       "      <td>-22.49588</td>\n",
       "      <td>-73.097702</td>\n",
       "      <td>65.770607</td>\n",
       "      <td>4662.924805</td>\n",
       "      <td>1.5</td>\n",
       "      <td>0.333333</td>\n",
       "      <td>2.0</td>\n",
       "    </tr>\n",
       "    <tr>\n",
       "      <th>4</th>\n",
       "      <td>-22.49588</td>\n",
       "      <td>-73.097702</td>\n",
       "      <td>65.770607</td>\n",
       "      <td>4662.924805</td>\n",
       "      <td>1.5</td>\n",
       "      <td>0.333333</td>\n",
       "      <td>2.0</td>\n",
       "    </tr>\n",
       "  </tbody>\n",
       "</table>\n",
       "</div>"
      ],
      "text/plain": [
       "    gps_lat    gps_lon  take_off_weight  fuel_burn_total2  flight_time  \\\n",
       "0 -22.49588 -73.097702        65.770607       4662.924805          1.5   \n",
       "1 -22.49588 -73.097702        65.770607       4662.924805          1.5   \n",
       "2 -22.49588 -73.097702        65.770607       4662.924805          1.5   \n",
       "3 -22.49588 -73.097702        65.770607       4662.924805          1.5   \n",
       "4 -22.49588 -73.097702        65.770607       4662.924805          1.5   \n",
       "\n",
       "   cruise_time  airline  \n",
       "0     0.333333      2.0  \n",
       "1     0.333333      2.0  \n",
       "2     0.333333      2.0  \n",
       "3     0.333333      2.0  \n",
       "4     0.333333      2.0  "
      ]
     },
     "execution_count": 9,
     "metadata": {},
     "output_type": "execute_result"
    }
   ],
   "source": [
    "df[\"airline\"] = clf.assigned_clusters #adding clusters labels to the dataframe\n",
    "df.head()"
   ]
  },
  {
   "cell_type": "markdown",
   "metadata": {},
   "source": [
    "# Principal Component Analysis (PCA)"
   ]
  },
  {
   "cell_type": "code",
   "execution_count": 10,
   "metadata": {},
   "outputs": [
    {
     "data": {
      "text/plain": [
       "Text(0, 0.5, 'Flight Time (hrs)')"
      ]
     },
     "execution_count": 10,
     "metadata": {},
     "output_type": "execute_result"
    },
    {
     "data": {
      "image/png": "[encoded data removed]",
      "text/plain": [
       "<Figure size 432x288 with 1 Axes>"
      ]
     },
     "metadata": {
      "needs_background": "light"
     },
     "output_type": "display_data"
    }
   ],
   "source": [
    "#plotting data on which to perform pca, as can be seen they have a good correlation so PCA is appropriate\n",
    "plt.scatter(df[\"fuel_burn_total2\"],df[\"flight_time\"], s=10, alpha=0.01)\n",
    "plt.xlabel(\"Fuel Burn (kg)\")\n",
    "plt.ylabel(\"Flight Time (hrs)\")"
   ]
  },
  {
   "cell_type": "code",
   "execution_count": 11,
   "metadata": {},
   "outputs": [
    {
     "data": {
      "text/html": [
       "<div>\n",
       "<style scoped>\n",
       "    .dataframe tbody tr th:only-of-type {\n",
       "        vertical-align: middle;\n",
       "    }\n",
       "\n",
       "    .dataframe tbody tr th {\n",
       "        vertical-align: top;\n",
       "    }\n",
       "\n",
       "    .dataframe thead th {\n",
       "        text-align: right;\n",
       "    }\n",
       "</style>\n",
       "<table border=\"1\" class=\"dataframe\">\n",
       "  <thead>\n",
       "    <tr style=\"text-align: right;\">\n",
       "      <th></th>\n",
       "      <th>fuel_burn_total2</th>\n",
       "      <th>flight_time</th>\n",
       "    </tr>\n",
       "  </thead>\n",
       "  <tbody>\n",
       "    <tr>\n",
       "      <th>4614</th>\n",
       "      <td>9888.0</td>\n",
       "      <td>4.0</td>\n",
       "    </tr>\n",
       "    <tr>\n",
       "      <th>4368</th>\n",
       "      <td>3066.0</td>\n",
       "      <td>1.0</td>\n",
       "    </tr>\n",
       "    <tr>\n",
       "      <th>16727</th>\n",
       "      <td>8020.0</td>\n",
       "      <td>3.0</td>\n",
       "    </tr>\n",
       "    <tr>\n",
       "      <th>20136</th>\n",
       "      <td>4155.0</td>\n",
       "      <td>2.0</td>\n",
       "    </tr>\n",
       "    <tr>\n",
       "      <th>3664</th>\n",
       "      <td>5461.0</td>\n",
       "      <td>2.0</td>\n",
       "    </tr>\n",
       "  </tbody>\n",
       "</table>\n",
       "</div>"
      ],
      "text/plain": [
       "       fuel_burn_total2  flight_time\n",
       "4614             9888.0          4.0\n",
       "4368             3066.0          1.0\n",
       "16727            8020.0          3.0\n",
       "20136            4155.0          2.0\n",
       "3664             5461.0          2.0"
      ]
     },
     "execution_count": 11,
     "metadata": {},
     "output_type": "execute_result"
    }
   ],
   "source": [
    "#data we want to apply PCA to 71\n",
    "df[[\"fuel_burn_total2\",\"flight_time\"]].sample(5).apply(lambda x: np.round(x))"
   ]
  },
  {
   "cell_type": "code",
   "execution_count": 12,
   "metadata": {},
   "outputs": [],
   "source": [
    "#creating separate dataframe of columns to be combined, additional numerical columns can be added to this!\n",
    "pca_df = df[[\"fuel_burn_total2\",\"flight_time\"]].copy() # \"take_off_weight\",\"cruise_time\"\n",
    "for column in pca_df.columns:\n",
    "    #normalising the data\n",
    "    pca_df[column] = (pca_df[column] - np.mean(pca_df[column]))/(max(pca_df[column])-min(pca_df[column]))\n",
    "pca_arr = np.array(pca_df) #converting to numpy array"
   ]
  },
  {
   "cell_type": "code",
   "execution_count": 13,
   "metadata": {},
   "outputs": [],
   "source": [
    "#calculating sigma (covariance matrix)\n",
    "sigma = (1/len(pca_df))*np.sum(np.array([np.dot(i[:,np.newaxis],i[:,np.newaxis].transpose()) for i in pca_arr]),axis=0)"
   ]
  },
  {
   "cell_type": "code",
   "execution_count": 14,
   "metadata": {},
   "outputs": [
    {
     "data": {
      "text/plain": [
       "array([[ 0.74598689, -0.66596063],\n",
       "       [ 0.66596063,  0.74598689]])"
      ]
     },
     "execution_count": 14,
     "metadata": {},
     "output_type": "execute_result"
    }
   ],
   "source": [
    "principal_components = np.linalg.eig(sigma)[1] #taking eigenvectors (principal components) from sigma\n",
    "\n",
    "principal_components #the principal components"
   ]
  },
  {
   "cell_type": "code",
   "execution_count": 15,
   "metadata": {},
   "outputs": [
    {
     "data": {
      "text/plain": [
       "Text(0, 0.5, 'Flight Time (hrs)')"
      ]
     },
     "execution_count": 15,
     "metadata": {},
     "output_type": "execute_result"
    },
    {
     "data": {
      "image/png": "[encoded data removed]",
      "text/plain": [
       "<Figure size 432x288 with 1 Axes>"
      ]
     },
     "metadata": {
      "needs_background": "light"
     },
     "output_type": "display_data"
    }
   ],
   "source": [
    "#plotting the principal components over the data\n",
    "plt.scatter(x=df[\"fuel_burn_total2\"], y=df[\"flight_time\"], s=10, alpha=0.5)\n",
    "plt.quiver([8000], [3], principal_components[0,0],principal_components[1,0], color=['r'], scale=3)\n",
    "plt.quiver([8000], [3], principal_components[0,1],principal_components[1,1], color=['b'], scale=4)\n",
    "plt.legend([\"Data\",\"PC1\",\"PC2\"])\n",
    "plt.xlabel(\"Fuel Burn (kg)\")\n",
    "plt.ylabel(\"Flight Time (hrs)\")\n",
    "#principal component 1 represents most variation in the data, followed by PC2... and so on"
   ]
  },
  {
   "cell_type": "code",
   "execution_count": 16,
   "metadata": {},
   "outputs": [
    {
     "name": "stdout",
     "output_type": "stream",
     "text": [
      "Projection error for 1 principal components: 0.293\n",
      "Projection error for 2 principal components: 0.0\n"
     ]
    }
   ],
   "source": [
    "#compressing data into 1,2,3... principal components to assess how much accuracy is lost with each component not used\n",
    "for i in range(principal_components.shape[1]): #iterating through number of principal components\n",
    "    z = np.dot(principal_components.transpose()[0:i+1,:], pca_df.transpose()).transpose() #calculating z\n",
    "\n",
    "    #calculating projection error\n",
    "    sqr_proj_err = np.mean(np.linalg.norm(pca_arr-np.dot(principal_components[:,0:i+1], z.transpose()).transpose(), axis=1))/ \\\n",
    "    np.mean(np.linalg.norm(pca_arr, axis=1))\n",
    "    \n",
    "    print(\"Projection error for {} principal components: {}\".format(i+1,np.round(sqr_proj_err,3)))"
   ]
  },
  {
   "cell_type": "code",
   "execution_count": 17,
   "metadata": {},
   "outputs": [
    {
     "data": {
      "text/html": [
       "<div>\n",
       "<style scoped>\n",
       "    .dataframe tbody tr th:only-of-type {\n",
       "        vertical-align: middle;\n",
       "    }\n",
       "\n",
       "    .dataframe tbody tr th {\n",
       "        vertical-align: top;\n",
       "    }\n",
       "\n",
       "    .dataframe thead th {\n",
       "        text-align: right;\n",
       "    }\n",
       "</style>\n",
       "<table border=\"1\" class=\"dataframe\">\n",
       "  <thead>\n",
       "    <tr style=\"text-align: right;\">\n",
       "      <th></th>\n",
       "      <th>Z1</th>\n",
       "      <th>Z2</th>\n",
       "    </tr>\n",
       "  </thead>\n",
       "  <tbody>\n",
       "    <tr>\n",
       "      <th>14192</th>\n",
       "      <td>0.110335</td>\n",
       "      <td>0.100948</td>\n",
       "    </tr>\n",
       "    <tr>\n",
       "      <th>19731</th>\n",
       "      <td>-0.403171</td>\n",
       "      <td>0.004675</td>\n",
       "    </tr>\n",
       "    <tr>\n",
       "      <th>5606</th>\n",
       "      <td>0.130373</td>\n",
       "      <td>0.129283</td>\n",
       "    </tr>\n",
       "    <tr>\n",
       "      <th>9644</th>\n",
       "      <td>0.287468</td>\n",
       "      <td>0.081489</td>\n",
       "    </tr>\n",
       "    <tr>\n",
       "      <th>16006</th>\n",
       "      <td>0.309264</td>\n",
       "      <td>-0.076642</td>\n",
       "    </tr>\n",
       "  </tbody>\n",
       "</table>\n",
       "</div>"
      ],
      "text/plain": [
       "             Z1        Z2\n",
       "14192  0.110335  0.100948\n",
       "19731 -0.403171  0.004675\n",
       "5606   0.130373  0.129283\n",
       "9644   0.287468  0.081489\n",
       "16006  0.309264 -0.076642"
      ]
     },
     "execution_count": 17,
     "metadata": {},
     "output_type": "execute_result"
    }
   ],
   "source": [
    "#Dimensionless values\n",
    "pd.DataFrame({\"Z1\":z[:,0],\"Z2\":z[:,1]}).sample(5)"
   ]
  }
 ],
 "metadata": {
  "kernelspec": {
   "display_name": "Python 3",
   "language": "python",
   "name": "python3"
  },
  "language_info": {
   "codemirror_mode": {
    "name": "ipython",
    "version": 3
   },
   "file_extension": ".py",
   "mimetype": "text/x-python",
   "name": "python",
   "nbconvert_exporter": "python",
   "pygments_lexer": "ipython3",
   "version": "3.7.6"
  }
 },
 "nbformat": 4,
 "nbformat_minor": 2
}
